{
 "cells": [
  {
   "cell_type": "markdown",
   "metadata": {},
   "source": [
    "## Group 6 Project PML\n",
    "\n",
    "### Handwritten Digit Recogonition using Convolution Neural Network\n",
    "\n",
    "M.Visweswaran [CB.EN.U4AIE20075]\n",
    "\n",
    "Vishnu Radhakrishnan [CB.EN.U4AIE20074]\n",
    "\n",
    "Thushit Kumar R [CB.EN.U4AIE20072]\n",
    "\n",
    "Menta Sai Akshay [CB.EN.U4AIE20040]\n",
    "\n",
    "Krishnan K M [CB.EN.U4AIE20031]"
   ]
  },
  {
   "cell_type": "code",
   "execution_count": 2,
   "metadata": {},
   "outputs": [],
   "source": [
    "# Importing imported packages\n",
    "import tensorflow as tf\n",
    "from tensorflow import keras\n",
    "import numpy as np\n",
    "import matplotlib.pyplot as plt\n",
    "import tensorflow_datasets as tfds\n",
    "\n",
    "from tensorflow.keras.layers import Conv2D, Dense, Flatten, Dropout\n",
    "from tensorflow.keras.callbacks import LearningRateScheduler"
   ]
  },
  {
   "cell_type": "markdown",
   "metadata": {},
   "source": [
    "DATA EXTRACTION AND FILTERING"
   ]
  },
  {
   "cell_type": "code",
   "execution_count": 3,
   "metadata": {},
   "outputs": [
    {
     "name": "stderr",
     "output_type": "stream",
     "text": [
      "WARNING:absl:Warning: Setting shuffle_files=True because split=TRAIN and shuffle_files=None. This behavior will be deprecated on 2019-08-06, at which point shuffle_files=False will be the default for all splits.\n"
     ]
    },
    {
     "name": "stdout",
     "output_type": "stream",
     "text": [
      "WARNING:tensorflow:AutoGraph could not transform <bound method TopLevelFeature.decode_example of FeaturesDict({\n",
      "    'image': Image(shape=(28, 28, 1), dtype=tf.uint8),\n",
      "    'label': ClassLabel(shape=(), dtype=tf.int64, num_classes=10),\n",
      "})> and will run it as-is.\n",
      "Please report this to the TensorFlow team. When filing the bug, set the verbosity to 10 (on Linux, `export AUTOGRAPH_VERBOSITY=10`) and attach the full output.\n",
      "Cause: No module named 'tensorflow_core.estimator'\n"
     ]
    },
    {
     "name": "stderr",
     "output_type": "stream",
     "text": [
      "WARNING:tensorflow:AutoGraph could not transform <bound method TopLevelFeature.decode_example of FeaturesDict({\n",
      "    'image': Image(shape=(28, 28, 1), dtype=tf.uint8),\n",
      "    'label': ClassLabel(shape=(), dtype=tf.int64, num_classes=10),\n",
      "})> and will run it as-is.\n",
      "Please report this to the TensorFlow team. When filing the bug, set the verbosity to 10 (on Linux, `export AUTOGRAPH_VERBOSITY=10`) and attach the full output.\n",
      "Cause: No module named 'tensorflow_core.estimator'\n"
     ]
    },
    {
     "name": "stdout",
     "output_type": "stream",
     "text": [
      "WARNING: AutoGraph could not transform <bound method TopLevelFeature.decode_example of FeaturesDict({\n",
      "    'image': Image(shape=(28, 28, 1), dtype=tf.uint8),\n",
      "    'label': ClassLabel(shape=(), dtype=tf.int64, num_classes=10),\n",
      "})> and will run it as-is.\n",
      "Please report this to the TensorFlow team. When filing the bug, set the verbosity to 10 (on Linux, `export AUTOGRAPH_VERBOSITY=10`) and attach the full output.\n",
      "Cause: No module named 'tensorflow_core.estimator'\n",
      "WARNING:tensorflow:AutoGraph could not transform <bound method TopLevelFeature.decode_example of FeaturesDict({\n",
      "    'image': Image(shape=(28, 28, 1), dtype=tf.uint8),\n",
      "    'label': ClassLabel(shape=(), dtype=tf.int64, num_classes=10),\n",
      "})> and will run it as-is.\n",
      "Please report this to the TensorFlow team. When filing the bug, set the verbosity to 10 (on Linux, `export AUTOGRAPH_VERBOSITY=10`) and attach the full output.\n",
      "Cause: No module named 'tensorflow_core.estimator'\n"
     ]
    },
    {
     "name": "stderr",
     "output_type": "stream",
     "text": [
      "WARNING:tensorflow:AutoGraph could not transform <bound method TopLevelFeature.decode_example of FeaturesDict({\n",
      "    'image': Image(shape=(28, 28, 1), dtype=tf.uint8),\n",
      "    'label': ClassLabel(shape=(), dtype=tf.int64, num_classes=10),\n",
      "})> and will run it as-is.\n",
      "Please report this to the TensorFlow team. When filing the bug, set the verbosity to 10 (on Linux, `export AUTOGRAPH_VERBOSITY=10`) and attach the full output.\n",
      "Cause: No module named 'tensorflow_core.estimator'\n"
     ]
    },
    {
     "name": "stdout",
     "output_type": "stream",
     "text": [
      "WARNING: AutoGraph could not transform <bound method TopLevelFeature.decode_example of FeaturesDict({\n",
      "    'image': Image(shape=(28, 28, 1), dtype=tf.uint8),\n",
      "    'label': ClassLabel(shape=(), dtype=tf.int64, num_classes=10),\n",
      "})> and will run it as-is.\n",
      "Please report this to the TensorFlow team. When filing the bug, set the verbosity to 10 (on Linux, `export AUTOGRAPH_VERBOSITY=10`) and attach the full output.\n",
      "Cause: No module named 'tensorflow_core.estimator'\n"
     ]
    }
   ],
   "source": [
    "# Download MNIST Dataset\n",
    "train, test = tfds.as_numpy(tfds.load(\n",
    "    'mnist',\n",
    "    split=['train','test'], \n",
    "    batch_size=-1, \n",
    "    as_supervised=True,\n",
    "))\n",
    "\n",
    "trainX, trainY = train[0], train[1]\n",
    "testX, testY = test[0], test[1]\n",
    "\n",
    "# Filtering (To Range [0-1])\n",
    "trainX_rescale = trainX/ 255.\n",
    "testX_rescale = testX / 255.\n",
    "trainY_onehot = tf.one_hot(trainY, 10)\n",
    "testY_onehot = tf.one_hot(testY, 10)"
   ]
  },
  {
   "cell_type": "markdown",
   "metadata": {},
   "source": [
    "ONE EXAMPLE FROM DATASET"
   ]
  },
  {
   "cell_type": "code",
   "execution_count": 4,
   "metadata": {},
   "outputs": [
    {
     "data": {
      "image/png": "[encoded data removed]",
      "text/plain": [
       "<Figure size 432x288 with 1 Axes>"
      ]
     },
     "metadata": {
      "needs_background": "light"
     },
     "output_type": "display_data"
    }
   ],
   "source": [
    "def show_num(index):\n",
    "  img_arr = trainX[index, :, :, :]\n",
    "  to_show = np.squeeze(img_arr) # As plt.imshow works with only 2D arrays we convert (28,28,1) => (28,28)\n",
    "  plt.imshow(to_show, cmap='Greys')\n",
    "  plt.show()\n",
    "show_num(5)"
   ]
  },
  {
   "cell_type": "markdown",
   "metadata": {},
   "source": [
    "LENET-5 MODEL"
   ]
  },
  {
   "cell_type": "code",
   "execution_count": 5,
   "metadata": {},
   "outputs": [],
   "source": [
    "model = tf.keras.Sequential() # Intialising the model"
   ]
  },
  {
   "cell_type": "code",
   "execution_count": 6,
   "metadata": {},
   "outputs": [],
   "source": [
    "# Creating Lenet-5 layers\n",
    "\n",
    "model.add(Conv2D(6, kernel_size=(5,5), input_shape = (28,28,1), activation='relu', padding='same', name=\"C1\"))\n",
    "model.add(Conv2D(6, (2,2), strides=2, name=\"S2\", activation='relu'))\n",
    "model.add(Dropout(0.4))\n",
    "model.add(Conv2D(16, (5,5), activation='relu', name='C3'))\n",
    "model.add(Conv2D(16, (2,2), strides=2, activation='relu',name=\"S4\"))\n",
    "model.add(Conv2D(120, (5,5), activation='relu', name=\"C5\"))\n",
    "model.add(Flatten())\n",
    "model.add(Dense(84, activation='relu', name='F6'))\n",
    "model.add(Dense(10, activation='softmax', name='OUTPUT'))"
   ]
  },
  {
   "cell_type": "markdown",
   "metadata": {},
   "source": [
    "OVERALL SUMMARY"
   ]
  },
  {
   "cell_type": "code",
   "execution_count": 7,
   "metadata": {},
   "outputs": [
    {
     "name": "stdout",
     "output_type": "stream",
     "text": [
      "Model: \"sequential\"\n",
      "_________________________________________________________________\n",
      "Layer (type)                 Output Shape              Param #   \n",
      "=================================================================\n",
      "C1 (Conv2D)                  (None, 28, 28, 6)         156       \n",
      "_________________________________________________________________\n",
      "S2 (Conv2D)                  (None, 14, 14, 6)         150       \n",
      "_________________________________________________________________\n",
      "dropout (Dropout)            (None, 14, 14, 6)         0         \n",
      "_________________________________________________________________\n",
      "C3 (Conv2D)                  (None, 10, 10, 16)        2416      \n",
      "_________________________________________________________________\n",
      "S4 (Conv2D)                  (None, 5, 5, 16)          1040      \n",
      "_________________________________________________________________\n",
      "C5 (Conv2D)                  (None, 1, 1, 120)         48120     \n",
      "_________________________________________________________________\n",
      "flatten (Flatten)            (None, 120)               0         \n",
      "_________________________________________________________________\n",
      "F6 (Dense)                   (None, 84)                10164     \n",
      "_________________________________________________________________\n",
      "OUTPUT (Dense)               (None, 10)                850       \n",
      "=================================================================\n",
      "Total params: 62,896\n",
      "Trainable params: 62,896\n",
      "Non-trainable params: 0\n",
      "_________________________________________________________________\n"
     ]
    }
   ],
   "source": [
    "model.summary()"
   ]
  },
  {
   "cell_type": "markdown",
   "metadata": {},
   "source": [
    "FUNCTION FOR LEARNING RATE BASED ON EPOCH CYCLE"
   ]
  },
  {
   "cell_type": "code",
   "execution_count": 8,
   "metadata": {},
   "outputs": [],
   "source": [
    "# Learing rate based on the epochs cycles\n",
    "def scheduler(epoch):\n",
    "  if epoch<=2:\n",
    "    return(0.0005)\n",
    "  elif (epoch>2 and epoch<=5):\n",
    "    return(0.0002)\n",
    "  elif (epoch>5 and epoch<=8):\n",
    "    return(0.0001)\n",
    "  elif (epoch>8 and epoch<=12):\n",
    "    return(0.00005)\n",
    "  else:\n",
    "    return(0.00001)\n",
    "\n",
    "\n",
    "def scheduler2(epoch):\n",
    "  if epoch < 10:\n",
    "    return 0.001\n",
    "  else:\n",
    "    return 0.001 * tf.math.exp(0.1 * (10 - epoch))\n",
    "\n",
    "# adding my own modification to decrease the learning rate further\n",
    "callback = LearningRateScheduler(scheduler)\n",
    "callback2 = LearningRateScheduler(scheduler2)\n",
    "model.compile(loss = \"categorical_crossentropy\", optimizer='adam', metrics=[\"accuracy\"])"
   ]
  },
  {
   "cell_type": "markdown",
   "metadata": {},
   "source": [
    "TRAINING THE MODEL AND TESTING"
   ]
  },
  {
   "cell_type": "code",
   "execution_count": 9,
   "metadata": {},
   "outputs": [
    {
     "name": "stdout",
     "output_type": "stream",
     "text": [
      "Train on 60000 samples, validate on 10000 samples\n",
      "Epoch 1/10\n",
      "60000/60000 [==============================] - 15s 257us/sample - loss: 0.3352 - accuracy: 0.8936 - val_loss: 0.0938 - val_accuracy: 0.9708\n",
      "Epoch 2/10\n",
      "60000/60000 [==============================] - 14s 230us/sample - loss: 0.1120 - accuracy: 0.9654 - val_loss: 0.0580 - val_accuracy: 0.9813\n",
      "Epoch 3/10\n",
      "60000/60000 [==============================] - 15s 245us/sample - loss: 0.0819 - accuracy: 0.9743 - val_loss: 0.0464 - val_accuracy: 0.9846\n",
      "Epoch 4/10\n",
      "60000/60000 [==============================] - 15s 248us/sample - loss: 0.0549 - accuracy: 0.9826 - val_loss: 0.0395 - val_accuracy: 0.9862\n",
      "Epoch 5/10\n",
      "60000/60000 [==============================] - 15s 246us/sample - loss: 0.0509 - accuracy: 0.9840 - val_loss: 0.0375 - val_accuracy: 0.9867\n",
      "Epoch 6/10\n",
      "60000/60000 [==============================] - 15s 242us/sample - loss: 0.0457 - accuracy: 0.9854 - val_loss: 0.0360 - val_accuracy: 0.9882\n",
      "Epoch 7/10\n",
      "60000/60000 [==============================] - 14s 232us/sample - loss: 0.0375 - accuracy: 0.9880 - val_loss: 0.0335 - val_accuracy: 0.9894\n",
      "Epoch 8/10\n",
      "60000/60000 [==============================] - 14s 240us/sample - loss: 0.0347 - accuracy: 0.9889 - val_loss: 0.0312 - val_accuracy: 0.9907\n",
      "Epoch 9/10\n",
      "60000/60000 [==============================] - 14s 238us/sample - loss: 0.0332 - accuracy: 0.9894 - val_loss: 0.0329 - val_accuracy: 0.9892\n",
      "Epoch 10/10\n",
      "60000/60000 [==============================] - 14s 239us/sample - loss: 0.0298 - accuracy: 0.9902 - val_loss: 0.0301 - val_accuracy: 0.9905\n"
     ]
    }
   ],
   "source": [
    "history = model.fit(trainX_rescale, trainY_onehot, epochs=10, validation_data=(testX_rescale, testY_onehot), verbose=1, callbacks=[callback])"
   ]
  },
  {
   "cell_type": "markdown",
   "metadata": {},
   "source": [
    "PLOTS"
   ]
  },
  {
   "cell_type": "code",
   "execution_count": 12,
   "metadata": {},
   "outputs": [
    {
     "data": {
      "image/png": "[encoded data removed]",
      "text/plain": [
       "<Figure size 1080x720 with 2 Axes>"
      ]
     },
     "metadata": {
      "needs_background": "light"
     },
     "output_type": "display_data"
    }
   ],
   "source": [
    "plt.figure(figsize=(15,10))\n",
    "\n",
    "# Plot Accurarcy vs Epoch Cycle\n",
    "plt.subplot(211)\n",
    "plt.plot(history.history['accuracy'], '--', label='acc')\n",
    "plt.plot(history.history['val_accuracy'], '--',label='val_acc')\n",
    "plt.title('model accuracy')\n",
    "plt.ylabel('accuracy')\n",
    "plt.xlabel('epoch cycle')\n",
    "plt.legend(loc='upper left')\n",
    "axes=plt.gca()\n",
    "axes.set_ylim([0.965, 1])\n",
    "\n",
    "# Plot Loss vs Epoch Cycle\n",
    "plt.subplot(212)\n",
    "plt.plot(history.history['loss'], '--', label='loss')\n",
    "plt.plot(history.history['val_loss'], '--',label='val_loss')\n",
    "plt.title('model loss')\n",
    "plt.ylabel('loss')\n",
    "plt.xlabel('epoch')\n",
    "plt.legend(loc='upper left')\n",
    "axes=plt.gca()\n",
    "\n",
    "plt.show()"
   ]
  },
  {
   "cell_type": "markdown",
   "metadata": {},
   "source": [
    "SAVING THE MODEL"
   ]
  },
  {
   "cell_type": "code",
   "execution_count": 11,
   "metadata": {},
   "outputs": [],
   "source": [
    "model.save(\"trained_model.hdf5\")"
   ]
  }
 ],
 "metadata": {
  "interpreter": {
   "hash": "4bf79c014e16b3915abe4f16bab128ee50c3055dfd2d474fcf703de72c83e33a"
  },
  "kernelspec": {
   "display_name": "Python 3.9.7 64-bit ('MathematicsEnv': conda)",
   "language": "python",
   "name": "python3"
  },
  "language_info": {
   "codemirror_mode": {
    "name": "ipython",
    "version": 3
   },
   "file_extension": ".py",
   "mimetype": "text/x-python",
   "name": "python",
   "nbconvert_exporter": "python",
   "pygments_lexer": "ipython3",
   "version": "3.7.11"
  },
  "orig_nbformat": 4
 },
 "nbformat": 4,
 "nbformat_minor": 2
}
